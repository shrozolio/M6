{
 "cells": [
  {
   "cell_type": "markdown",
   "id": "801a75db",
   "metadata": {},
   "source": [
    "<h1>Investigate securities properties</h1>"
   ]
  },
  {
   "cell_type": "markdown",
   "id": "27543942",
   "metadata": {},
   "source": [
    "<h3>Pandas profiler</h3>"
   ]
  },
  {
   "cell_type": "code",
   "execution_count": null,
   "id": "6400fc99",
   "metadata": {},
   "outputs": [],
   "source": [
    "# the installation take few minutes - \n",
    "# it is recommended running it on a clean notebook with only pandas imported and the dataset read.\n",
    "# when using matplotlib inline there could be some problems and errors\n",
    "\n",
    "# pip install -U pandas-profiling[notebook]\n",
    "# jupyter nbextension enable --py widgetsnbextension"
   ]
  },
  {
   "cell_type": "markdown",
   "id": "89a0e4b3",
   "metadata": {},
   "source": [
    "<h3>Imports</h3>"
   ]
  },
  {
   "cell_type": "code",
   "execution_count": 1,
   "id": "6c36ab40",
   "metadata": {},
   "outputs": [],
   "source": [
    "import pandas_profiling\n",
    "from pandas_profiling import ProfileReport"
   ]
  },
  {
   "cell_type": "markdown",
   "id": "a245f463",
   "metadata": {},
   "source": [
    "<h3>Installations</h3>"
   ]
  },
  {
   "cell_type": "code",
   "execution_count": null,
   "id": "d580bfc2",
   "metadata": {},
   "outputs": [],
   "source": [
    "# !pip install yfinance"
   ]
  },
  {
   "cell_type": "markdown",
   "id": "6e493ead",
   "metadata": {},
   "source": [
    "<h3>More Imports</h3>"
   ]
  },
  {
   "cell_type": "code",
   "execution_count": 2,
   "id": "329788a2",
   "metadata": {},
   "outputs": [],
   "source": [
    "import numpy as np\n",
    "import pandas as pd\n",
    "from datetime import datetime\n",
    "#import yfinance as yf\n",
    "#import matplotlib.pyplot as plt\n",
    "\n",
    "# inline plot \n",
    "#%matplotlib inline  "
   ]
  },
  {
   "cell_type": "code",
   "execution_count": null,
   "id": "79ed45cd",
   "metadata": {},
   "outputs": [],
   "source": [
    "import warnings\n",
    "warnings.filterwarnings('ignore')"
   ]
  },
  {
   "cell_type": "markdown",
   "id": "dfc4d054",
   "metadata": {},
   "source": [
    "<h3>Read files</h3>"
   ]
  },
  {
   "cell_type": "code",
   "execution_count": null,
   "id": "5cfb6eb3",
   "metadata": {},
   "outputs": [],
   "source": [
    "pd.set_option(\"display.max_columns\", 500)\n",
    "pd.set_option(\"display.max_rows\", 500)"
   ]
  },
  {
   "cell_type": "code",
   "execution_count": 3,
   "id": "1c07a7e2",
   "metadata": {},
   "outputs": [],
   "source": [
    "data_folder = \"../DataRaw/\"\n",
    "data_out    = \"../DataWork/\"\n",
    "\n",
    "dat_fname = data_out + \"yahoo_download_2022_03_05.csv\"\n",
    "#dat_fname = data_out + \"yahoo_download_\" + pd.to_datetime('today').strftime('%Y_%m_%d') + \".csv\""
   ]
  },
  {
   "cell_type": "code",
   "execution_count": null,
   "id": "54d690a2",
   "metadata": {},
   "outputs": [],
   "source": [
    "assets = pd.read_csv(data_folder + \"M6_Universe.csv\", index_col=0)\n",
    "symbols = assets.symbol.to_list()"
   ]
  },
  {
   "cell_type": "code",
   "execution_count": null,
   "id": "a7073f20",
   "metadata": {},
   "outputs": [],
   "source": [
    "assets.shape"
   ]
  },
  {
   "cell_type": "code",
   "execution_count": 4,
   "id": "e6f3b6f1",
   "metadata": {},
   "outputs": [],
   "source": [
    "dat = pd.read_csv(dat_fname,header=[0,1],index_col=0)"
   ]
  },
  {
   "cell_type": "code",
   "execution_count": 5,
   "id": "ce2e769a",
   "metadata": {},
   "outputs": [
    {
     "data": {
      "text/html": [
       "<div>\n",
       "<style scoped>\n",
       "    .dataframe tbody tr th:only-of-type {\n",
       "        vertical-align: middle;\n",
       "    }\n",
       "\n",
       "    .dataframe tbody tr th {\n",
       "        vertical-align: top;\n",
       "    }\n",
       "\n",
       "    .dataframe thead tr th {\n",
       "        text-align: left;\n",
       "    }\n",
       "\n",
       "    .dataframe thead tr:last-of-type th {\n",
       "        text-align: right;\n",
       "    }\n",
       "</style>\n",
       "<table border=\"1\" class=\"dataframe\">\n",
       "  <thead>\n",
       "    <tr>\n",
       "      <th></th>\n",
       "      <th colspan=\"10\" halign=\"left\">Adj Close</th>\n",
       "      <th>...</th>\n",
       "      <th colspan=\"10\" halign=\"left\">Volume</th>\n",
       "    </tr>\n",
       "    <tr>\n",
       "      <th></th>\n",
       "      <th>ABBV</th>\n",
       "      <th>ACN</th>\n",
       "      <th>AEP</th>\n",
       "      <th>AIZ</th>\n",
       "      <th>ALLE</th>\n",
       "      <th>AMAT</th>\n",
       "      <th>AMP</th>\n",
       "      <th>AMZN</th>\n",
       "      <th>AVB</th>\n",
       "      <th>AVY</th>\n",
       "      <th>...</th>\n",
       "      <th>XLC</th>\n",
       "      <th>XLE</th>\n",
       "      <th>XLF</th>\n",
       "      <th>XLI</th>\n",
       "      <th>XLK</th>\n",
       "      <th>XLP</th>\n",
       "      <th>XLU</th>\n",
       "      <th>XLV</th>\n",
       "      <th>XLY</th>\n",
       "      <th>XOM</th>\n",
       "    </tr>\n",
       "    <tr>\n",
       "      <th>Date</th>\n",
       "      <th></th>\n",
       "      <th></th>\n",
       "      <th></th>\n",
       "      <th></th>\n",
       "      <th></th>\n",
       "      <th></th>\n",
       "      <th></th>\n",
       "      <th></th>\n",
       "      <th></th>\n",
       "      <th></th>\n",
       "      <th></th>\n",
       "      <th></th>\n",
       "      <th></th>\n",
       "      <th></th>\n",
       "      <th></th>\n",
       "      <th></th>\n",
       "      <th></th>\n",
       "      <th></th>\n",
       "      <th></th>\n",
       "      <th></th>\n",
       "      <th></th>\n",
       "    </tr>\n",
       "  </thead>\n",
       "  <tbody>\n",
       "    <tr>\n",
       "      <th>2004-12-31</th>\n",
       "      <td>NaN</td>\n",
       "      <td>19.976091</td>\n",
       "      <td>17.274654</td>\n",
       "      <td>22.410946</td>\n",
       "      <td>NaN</td>\n",
       "      <td>12.820436</td>\n",
       "      <td>NaN</td>\n",
       "      <td>44.290001</td>\n",
       "      <td>40.959309</td>\n",
       "      <td>38.327103</td>\n",
       "      <td>...</td>\n",
       "      <td>NaN</td>\n",
       "      <td>632200.0</td>\n",
       "      <td>701424.0</td>\n",
       "      <td>162800.0</td>\n",
       "      <td>489300.0</td>\n",
       "      <td>226200.0</td>\n",
       "      <td>675100.0</td>\n",
       "      <td>236300.0</td>\n",
       "      <td>105500.0</td>\n",
       "      <td>8497000.0</td>\n",
       "    </tr>\n",
       "    <tr>\n",
       "      <th>2005-01-03</th>\n",
       "      <td>NaN</td>\n",
       "      <td>19.509987</td>\n",
       "      <td>17.113684</td>\n",
       "      <td>22.520985</td>\n",
       "      <td>NaN</td>\n",
       "      <td>12.610504</td>\n",
       "      <td>NaN</td>\n",
       "      <td>44.520000</td>\n",
       "      <td>40.469757</td>\n",
       "      <td>37.815807</td>\n",
       "      <td>...</td>\n",
       "      <td>NaN</td>\n",
       "      <td>3981600.0</td>\n",
       "      <td>5011647.0</td>\n",
       "      <td>421800.0</td>\n",
       "      <td>1323900.0</td>\n",
       "      <td>813900.0</td>\n",
       "      <td>2026400.0</td>\n",
       "      <td>606200.0</td>\n",
       "      <td>429200.0</td>\n",
       "      <td>16009200.0</td>\n",
       "    </tr>\n",
       "    <tr>\n",
       "      <th>2005-01-04</th>\n",
       "      <td>NaN</td>\n",
       "      <td>19.051273</td>\n",
       "      <td>17.048288</td>\n",
       "      <td>22.080837</td>\n",
       "      <td>NaN</td>\n",
       "      <td>12.370594</td>\n",
       "      <td>NaN</td>\n",
       "      <td>42.139999</td>\n",
       "      <td>40.018269</td>\n",
       "      <td>37.291748</td>\n",
       "      <td>...</td>\n",
       "      <td>NaN</td>\n",
       "      <td>6333300.0</td>\n",
       "      <td>7426746.0</td>\n",
       "      <td>1901800.0</td>\n",
       "      <td>764700.0</td>\n",
       "      <td>2075600.0</td>\n",
       "      <td>1287600.0</td>\n",
       "      <td>454300.0</td>\n",
       "      <td>845100.0</td>\n",
       "      <td>16718000.0</td>\n",
       "    </tr>\n",
       "    <tr>\n",
       "      <th>2005-01-05</th>\n",
       "      <td>NaN</td>\n",
       "      <td>18.977295</td>\n",
       "      <td>16.847065</td>\n",
       "      <td>21.897440</td>\n",
       "      <td>NaN</td>\n",
       "      <td>12.160666</td>\n",
       "      <td>NaN</td>\n",
       "      <td>41.770000</td>\n",
       "      <td>38.087261</td>\n",
       "      <td>36.831596</td>\n",
       "      <td>...</td>\n",
       "      <td>NaN</td>\n",
       "      <td>3974000.0</td>\n",
       "      <td>2943321.0</td>\n",
       "      <td>882400.0</td>\n",
       "      <td>813500.0</td>\n",
       "      <td>1772000.0</td>\n",
       "      <td>1431900.0</td>\n",
       "      <td>448300.0</td>\n",
       "      <td>130300.0</td>\n",
       "      <td>12189100.0</td>\n",
       "    </tr>\n",
       "    <tr>\n",
       "      <th>2005-01-06</th>\n",
       "      <td>NaN</td>\n",
       "      <td>18.807127</td>\n",
       "      <td>16.852093</td>\n",
       "      <td>22.447630</td>\n",
       "      <td>NaN</td>\n",
       "      <td>12.070700</td>\n",
       "      <td>NaN</td>\n",
       "      <td>41.049999</td>\n",
       "      <td>38.701920</td>\n",
       "      <td>37.272568</td>\n",
       "      <td>...</td>\n",
       "      <td>NaN</td>\n",
       "      <td>5028800.0</td>\n",
       "      <td>3211925.0</td>\n",
       "      <td>252600.0</td>\n",
       "      <td>481700.0</td>\n",
       "      <td>594900.0</td>\n",
       "      <td>772200.0</td>\n",
       "      <td>1247500.0</td>\n",
       "      <td>129200.0</td>\n",
       "      <td>13098700.0</td>\n",
       "    </tr>\n",
       "  </tbody>\n",
       "</table>\n",
       "<p>5 rows × 800 columns</p>\n",
       "</div>"
      ],
      "text/plain": [
       "           Adj Close                                                       \\\n",
       "                ABBV        ACN        AEP        AIZ ALLE       AMAT AMP   \n",
       "Date                                                                        \n",
       "2004-12-31       NaN  19.976091  17.274654  22.410946  NaN  12.820436 NaN   \n",
       "2005-01-03       NaN  19.509987  17.113684  22.520985  NaN  12.610504 NaN   \n",
       "2005-01-04       NaN  19.051273  17.048288  22.080837  NaN  12.370594 NaN   \n",
       "2005-01-05       NaN  18.977295  16.847065  21.897440  NaN  12.160666 NaN   \n",
       "2005-01-06       NaN  18.807127  16.852093  22.447630  NaN  12.070700 NaN   \n",
       "\n",
       "                                             ... Volume                        \\\n",
       "                 AMZN        AVB        AVY  ...    XLC        XLE        XLF   \n",
       "Date                                         ...                                \n",
       "2004-12-31  44.290001  40.959309  38.327103  ...    NaN   632200.0   701424.0   \n",
       "2005-01-03  44.520000  40.469757  37.815807  ...    NaN  3981600.0  5011647.0   \n",
       "2005-01-04  42.139999  40.018269  37.291748  ...    NaN  6333300.0  7426746.0   \n",
       "2005-01-05  41.770000  38.087261  36.831596  ...    NaN  3974000.0  2943321.0   \n",
       "2005-01-06  41.049999  38.701920  37.272568  ...    NaN  5028800.0  3211925.0   \n",
       "\n",
       "                                                                             \\\n",
       "                  XLI        XLK        XLP        XLU        XLV       XLY   \n",
       "Date                                                                          \n",
       "2004-12-31   162800.0   489300.0   226200.0   675100.0   236300.0  105500.0   \n",
       "2005-01-03   421800.0  1323900.0   813900.0  2026400.0   606200.0  429200.0   \n",
       "2005-01-04  1901800.0   764700.0  2075600.0  1287600.0   454300.0  845100.0   \n",
       "2005-01-05   882400.0   813500.0  1772000.0  1431900.0   448300.0  130300.0   \n",
       "2005-01-06   252600.0   481700.0   594900.0   772200.0  1247500.0  129200.0   \n",
       "\n",
       "                        \n",
       "                   XOM  \n",
       "Date                    \n",
       "2004-12-31   8497000.0  \n",
       "2005-01-03  16009200.0  \n",
       "2005-01-04  16718000.0  \n",
       "2005-01-05  12189100.0  \n",
       "2005-01-06  13098700.0  \n",
       "\n",
       "[5 rows x 800 columns]"
      ]
     },
     "execution_count": 5,
     "metadata": {},
     "output_type": "execute_result"
    }
   ],
   "source": [
    "dat.head()"
   ]
  },
  {
   "cell_type": "code",
   "execution_count": 6,
   "id": "1389cdd5",
   "metadata": {},
   "outputs": [
    {
     "name": "stdout",
     "output_type": "stream",
     "text": [
      "<class 'pandas.core.frame.DataFrame'>\n",
      "Index: 4394 entries, 2004-12-31 to 2022-03-04\n",
      "Columns: 800 entries, ('Adj Close', 'ABBV') to ('Volume', 'XOM')\n",
      "dtypes: float64(800)\n",
      "memory usage: 26.9+ MB\n"
     ]
    }
   ],
   "source": [
    "dat.info()"
   ]
  },
  {
   "cell_type": "markdown",
   "id": "b8b95569",
   "metadata": {},
   "source": [
    "<h3>All assets</h3>"
   ]
  },
  {
   "cell_type": "code",
   "execution_count": null,
   "id": "b2560786",
   "metadata": {},
   "outputs": [],
   "source": [
    "dat.columns.levels[0]"
   ]
  },
  {
   "cell_type": "code",
   "execution_count": null,
   "id": "2093879b",
   "metadata": {},
   "outputs": [],
   "source": [
    "splits = dat['Stock Splits'].apply(lambda x: sum(x > 0))\n",
    "assets['splits'] = splits.values"
   ]
  },
  {
   "cell_type": "code",
   "execution_count": null,
   "id": "07c5fad1",
   "metadata": {},
   "outputs": [],
   "source": [
    "first_day = dat['Adj Close'].apply(lambda x: x.dropna().index[0])\n",
    "assets['first_trade'] = first_day.values"
   ]
  },
  {
   "cell_type": "code",
   "execution_count": null,
   "id": "aad84e1b",
   "metadata": {},
   "outputs": [],
   "source": [
    "assets"
   ]
  },
  {
   "cell_type": "markdown",
   "id": "b7ca1091",
   "metadata": {},
   "source": [
    "<h3>Plot for each symbol</h3>"
   ]
  },
  {
   "cell_type": "code",
   "execution_count": null,
   "id": "7fbbebf0",
   "metadata": {
    "scrolled": true
   },
   "outputs": [],
   "source": [
    "#strange IEFM.L spikes\n",
    "for i in symbols:\n",
    "    dat['Adj Close'][i].plot()\n",
    "    plt.ylabel('Adj Close of ' + i)\n",
    "    plt.title(i)\n",
    "    plt.xticks(rotation=45)\n",
    "    plt.tight_layout()\n",
    "    plt.show()"
   ]
  },
  {
   "cell_type": "markdown",
   "id": "1c6d0e64",
   "metadata": {},
   "source": [
    "<h3>Flat index for header</h3>"
   ]
  },
  {
   "cell_type": "code",
   "execution_count": 7,
   "id": "98380d3c",
   "metadata": {
    "scrolled": true
   },
   "outputs": [
    {
     "data": {
      "text/html": [
       "<div>\n",
       "<style scoped>\n",
       "    .dataframe tbody tr th:only-of-type {\n",
       "        vertical-align: middle;\n",
       "    }\n",
       "\n",
       "    .dataframe tbody tr th {\n",
       "        vertical-align: top;\n",
       "    }\n",
       "\n",
       "    .dataframe thead th {\n",
       "        text-align: right;\n",
       "    }\n",
       "</style>\n",
       "<table border=\"1\" class=\"dataframe\">\n",
       "  <thead>\n",
       "    <tr style=\"text-align: right;\">\n",
       "      <th></th>\n",
       "      <th>ABBV</th>\n",
       "      <th>ACN</th>\n",
       "      <th>AEP</th>\n",
       "      <th>AIZ</th>\n",
       "      <th>ALLE</th>\n",
       "      <th>AMAT</th>\n",
       "      <th>AMP</th>\n",
       "      <th>AMZN</th>\n",
       "      <th>AVB</th>\n",
       "      <th>AVY</th>\n",
       "      <th>...</th>\n",
       "      <th>XLC</th>\n",
       "      <th>XLE</th>\n",
       "      <th>XLF</th>\n",
       "      <th>XLI</th>\n",
       "      <th>XLK</th>\n",
       "      <th>XLP</th>\n",
       "      <th>XLU</th>\n",
       "      <th>XLV</th>\n",
       "      <th>XLY</th>\n",
       "      <th>XOM</th>\n",
       "    </tr>\n",
       "    <tr>\n",
       "      <th>Date</th>\n",
       "      <th></th>\n",
       "      <th></th>\n",
       "      <th></th>\n",
       "      <th></th>\n",
       "      <th></th>\n",
       "      <th></th>\n",
       "      <th></th>\n",
       "      <th></th>\n",
       "      <th></th>\n",
       "      <th></th>\n",
       "      <th></th>\n",
       "      <th></th>\n",
       "      <th></th>\n",
       "      <th></th>\n",
       "      <th></th>\n",
       "      <th></th>\n",
       "      <th></th>\n",
       "      <th></th>\n",
       "      <th></th>\n",
       "      <th></th>\n",
       "      <th></th>\n",
       "    </tr>\n",
       "  </thead>\n",
       "  <tbody>\n",
       "    <tr>\n",
       "      <th>2004-12-31</th>\n",
       "      <td>NaN</td>\n",
       "      <td>19.976091</td>\n",
       "      <td>17.274654</td>\n",
       "      <td>22.410946</td>\n",
       "      <td>NaN</td>\n",
       "      <td>12.820436</td>\n",
       "      <td>NaN</td>\n",
       "      <td>44.290001</td>\n",
       "      <td>40.959309</td>\n",
       "      <td>38.327103</td>\n",
       "      <td>...</td>\n",
       "      <td>NaN</td>\n",
       "      <td>23.093752</td>\n",
       "      <td>17.446445</td>\n",
       "      <td>22.160181</td>\n",
       "      <td>16.714777</td>\n",
       "      <td>14.864493</td>\n",
       "      <td>15.247428</td>\n",
       "      <td>22.580473</td>\n",
       "      <td>28.146711</td>\n",
       "      <td>29.021376</td>\n",
       "    </tr>\n",
       "    <tr>\n",
       "      <th>2005-01-03</th>\n",
       "      <td>NaN</td>\n",
       "      <td>19.509987</td>\n",
       "      <td>17.113684</td>\n",
       "      <td>22.520985</td>\n",
       "      <td>NaN</td>\n",
       "      <td>12.610504</td>\n",
       "      <td>NaN</td>\n",
       "      <td>44.520000</td>\n",
       "      <td>40.469757</td>\n",
       "      <td>37.815807</td>\n",
       "      <td>...</td>\n",
       "      <td>NaN</td>\n",
       "      <td>22.241714</td>\n",
       "      <td>17.383581</td>\n",
       "      <td>21.967607</td>\n",
       "      <td>16.572250</td>\n",
       "      <td>14.864493</td>\n",
       "      <td>15.072234</td>\n",
       "      <td>22.318695</td>\n",
       "      <td>27.963280</td>\n",
       "      <td>28.358984</td>\n",
       "    </tr>\n",
       "    <tr>\n",
       "      <th>2005-01-04</th>\n",
       "      <td>NaN</td>\n",
       "      <td>19.051273</td>\n",
       "      <td>17.048288</td>\n",
       "      <td>22.080837</td>\n",
       "      <td>NaN</td>\n",
       "      <td>12.370594</td>\n",
       "      <td>NaN</td>\n",
       "      <td>42.139999</td>\n",
       "      <td>40.018269</td>\n",
       "      <td>37.291748</td>\n",
       "      <td>...</td>\n",
       "      <td>NaN</td>\n",
       "      <td>22.127275</td>\n",
       "      <td>17.217871</td>\n",
       "      <td>21.696587</td>\n",
       "      <td>16.263451</td>\n",
       "      <td>14.812972</td>\n",
       "      <td>14.968214</td>\n",
       "      <td>22.139191</td>\n",
       "      <td>27.636274</td>\n",
       "      <td>28.166485</td>\n",
       "    </tr>\n",
       "    <tr>\n",
       "      <th>2005-01-05</th>\n",
       "      <td>NaN</td>\n",
       "      <td>18.977295</td>\n",
       "      <td>16.847065</td>\n",
       "      <td>21.897440</td>\n",
       "      <td>NaN</td>\n",
       "      <td>12.160666</td>\n",
       "      <td>NaN</td>\n",
       "      <td>41.770000</td>\n",
       "      <td>38.087261</td>\n",
       "      <td>36.831596</td>\n",
       "      <td>...</td>\n",
       "      <td>NaN</td>\n",
       "      <td>22.031895</td>\n",
       "      <td>17.189291</td>\n",
       "      <td>21.546806</td>\n",
       "      <td>16.208029</td>\n",
       "      <td>14.735678</td>\n",
       "      <td>14.732788</td>\n",
       "      <td>22.101797</td>\n",
       "      <td>27.532581</td>\n",
       "      <td>28.019283</td>\n",
       "    </tr>\n",
       "    <tr>\n",
       "      <th>2005-01-06</th>\n",
       "      <td>NaN</td>\n",
       "      <td>18.807127</td>\n",
       "      <td>16.852093</td>\n",
       "      <td>22.447630</td>\n",
       "      <td>NaN</td>\n",
       "      <td>12.070700</td>\n",
       "      <td>NaN</td>\n",
       "      <td>41.049999</td>\n",
       "      <td>38.701920</td>\n",
       "      <td>37.272568</td>\n",
       "      <td>...</td>\n",
       "      <td>NaN</td>\n",
       "      <td>22.413397</td>\n",
       "      <td>17.275013</td>\n",
       "      <td>21.618132</td>\n",
       "      <td>16.160515</td>\n",
       "      <td>14.806520</td>\n",
       "      <td>14.809441</td>\n",
       "      <td>22.266342</td>\n",
       "      <td>27.389015</td>\n",
       "      <td>28.375961</td>\n",
       "    </tr>\n",
       "  </tbody>\n",
       "</table>\n",
       "<p>5 rows × 100 columns</p>\n",
       "</div>"
      ],
      "text/plain": [
       "            ABBV        ACN        AEP        AIZ  ALLE       AMAT  AMP  \\\n",
       "Date                                                                      \n",
       "2004-12-31   NaN  19.976091  17.274654  22.410946   NaN  12.820436  NaN   \n",
       "2005-01-03   NaN  19.509987  17.113684  22.520985   NaN  12.610504  NaN   \n",
       "2005-01-04   NaN  19.051273  17.048288  22.080837   NaN  12.370594  NaN   \n",
       "2005-01-05   NaN  18.977295  16.847065  21.897440   NaN  12.160666  NaN   \n",
       "2005-01-06   NaN  18.807127  16.852093  22.447630   NaN  12.070700  NaN   \n",
       "\n",
       "                 AMZN        AVB        AVY  ...  XLC        XLE        XLF  \\\n",
       "Date                                         ...                              \n",
       "2004-12-31  44.290001  40.959309  38.327103  ...  NaN  23.093752  17.446445   \n",
       "2005-01-03  44.520000  40.469757  37.815807  ...  NaN  22.241714  17.383581   \n",
       "2005-01-04  42.139999  40.018269  37.291748  ...  NaN  22.127275  17.217871   \n",
       "2005-01-05  41.770000  38.087261  36.831596  ...  NaN  22.031895  17.189291   \n",
       "2005-01-06  41.049999  38.701920  37.272568  ...  NaN  22.413397  17.275013   \n",
       "\n",
       "                  XLI        XLK        XLP        XLU        XLV        XLY  \\\n",
       "Date                                                                           \n",
       "2004-12-31  22.160181  16.714777  14.864493  15.247428  22.580473  28.146711   \n",
       "2005-01-03  21.967607  16.572250  14.864493  15.072234  22.318695  27.963280   \n",
       "2005-01-04  21.696587  16.263451  14.812972  14.968214  22.139191  27.636274   \n",
       "2005-01-05  21.546806  16.208029  14.735678  14.732788  22.101797  27.532581   \n",
       "2005-01-06  21.618132  16.160515  14.806520  14.809441  22.266342  27.389015   \n",
       "\n",
       "                  XOM  \n",
       "Date                   \n",
       "2004-12-31  29.021376  \n",
       "2005-01-03  28.358984  \n",
       "2005-01-04  28.166485  \n",
       "2005-01-05  28.019283  \n",
       "2005-01-06  28.375961  \n",
       "\n",
       "[5 rows x 100 columns]"
      ]
     },
     "execution_count": 7,
     "metadata": {},
     "output_type": "execute_result"
    }
   ],
   "source": [
    "data = dat['Adj Close']\n",
    "#data.columns = [\"_\".join(reversed(a)) for a in dat.columns.to_flat_index()]\n",
    "data.head()"
   ]
  },
  {
   "cell_type": "code",
   "execution_count": 8,
   "id": "7a883431",
   "metadata": {},
   "outputs": [],
   "source": [
    "profile = ProfileReport(df = data, title = \"Data Report\") #minimal = True) "
   ]
  },
  {
   "cell_type": "code",
   "execution_count": 9,
   "id": "17bf2e42",
   "metadata": {},
   "outputs": [
    {
     "data": {
      "application/vnd.jupyter.widget-view+json": {
       "model_id": "c7048b4b2ad44e869b423797ecf0bdee",
       "version_major": 2,
       "version_minor": 0
      },
      "text/plain": [
       "Summarize dataset:   0%|          | 0/5 [00:00<?, ?it/s]"
      ]
     },
     "metadata": {},
     "output_type": "display_data"
    },
    {
     "data": {
      "application/vnd.jupyter.widget-view+json": {
       "model_id": "571846bafd954a95bd62a0cbb6e6484e",
       "version_major": 2,
       "version_minor": 0
      },
      "text/plain": [
       "Generate report structure:   0%|          | 0/1 [00:00<?, ?it/s]"
      ]
     },
     "metadata": {},
     "output_type": "display_data"
    },
    {
     "data": {
      "application/vnd.jupyter.widget-view+json": {
       "model_id": "ff8754e123f84bcb949f03df14b49b16",
       "version_major": 2,
       "version_minor": 0
      },
      "text/plain": [
       "Render HTML:   0%|          | 0/1 [00:00<?, ?it/s]"
      ]
     },
     "metadata": {},
     "output_type": "display_data"
    }
   ],
   "source": [
    "profile.to_notebook_iframe()"
   ]
  },
  {
   "cell_type": "code",
   "execution_count": 10,
   "id": "392a1b16",
   "metadata": {},
   "outputs": [
    {
     "data": {
      "application/vnd.jupyter.widget-view+json": {
       "model_id": "48dfb8a0659f433886586b89a828e90f",
       "version_major": 2,
       "version_minor": 0
      },
      "text/plain": [
       "Export report to file:   0%|          | 0/1 [00:00<?, ?it/s]"
      ]
     },
     "metadata": {},
     "output_type": "display_data"
    }
   ],
   "source": [
    "profile.to_file(\"../DataWork/profile_report.html\")"
   ]
  },
  {
   "cell_type": "code",
   "execution_count": null,
   "id": "670f5f2a",
   "metadata": {},
   "outputs": [],
   "source": []
  }
 ],
 "metadata": {
  "kernelspec": {
   "display_name": "Python 3",
   "language": "python",
   "name": "python3"
  },
  "language_info": {
   "codemirror_mode": {
    "name": "ipython",
    "version": 3
   },
   "file_extension": ".py",
   "mimetype": "text/x-python",
   "name": "python",
   "nbconvert_exporter": "python",
   "pygments_lexer": "ipython3",
   "version": "3.7.6"
  }
 },
 "nbformat": 4,
 "nbformat_minor": 5
}
